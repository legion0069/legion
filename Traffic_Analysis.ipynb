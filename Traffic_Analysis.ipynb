import dash
from dash import dcc, html
from dash.dependencies import Input, Output, State
import plotly.express as px
import pandas as pd

# Load data from CSV
df = pd.read_csv("C:/Users/veruk/Documents/filtered_output_updated.csv")

# Parse the 'Datetime' column correctly
df['Datetime'] = pd.to_datetime(df['Datetime'], format='%d-%m-%Y %H:%M')

# Extract unique dates and times from the data
df['Date'] = df['Datetime'].dt.date
df['Time'] = df['Datetime'].dt.time
df['Weekday'] = df['Datetime'].dt.day_name()

unique_dates = df['Date'].unique()
unique_times = df['Time'].unique()

# Create the Dash app
app = dash.Dash(__name__)

app.layout = html.Div(
    style={
        'backgroundColor': '#F0F4F8',
        'padding': '20px',
        'fontFamily': 'Arial, sans-serif',
        'color': '#333'
    },
    children=[
        html.H1(
            'Traffic Analysis Dashboard',
            style={
                'textAlign': 'center',
                'color': '#4A90E2',
                'marginBottom': '30px'
            }
        ),

        html.Div(
            style={'display': 'flex', 'justifyContent': 'space-between', 'marginBottom': '20px'},
            children=[
                html.Div(
                    style={'flex': '1', 'marginRight': '10px'},
                    children=[
                        html.Label('Select Date:', style={'fontWeight': 'bold'}),
                        dcc.DatePickerSingle(
                            id='date-picker',
                            min_date_allowed=min(unique_dates),
                            max_date_allowed=max(unique_dates),
                            initial_visible_month=min(unique_dates),
                            date=min(unique_dates),
                            display_format='DD-MM-YYYY',
                            style={'width': '100%', 'marginTop': '5px'}
                        )
                    ]
                ),
                html.Div(
                    style={'flex': '1', 'marginRight': '10px'},
                    children=[
                        html.Label('Select Time:', style={'fontWeight': 'bold'}),
                        dcc.Dropdown(
                            id='time-dropdown',
                            options=[{'label': time.strftime('%H:%M'), 'value': time.strftime('%H:%M')} for time in unique_times],
                            placeholder='Select Time',
                            style={'width': '100%', 'marginTop': '5px'}
                        )
                    ]
                ),
                html.Div(
                    style={'flex': '1'},
                    children=[
                        html.Label('Select Road:', style={'fontWeight': 'bold'}),
                        dcc.Dropdown(
                            id='road-dropdown',
                            options=[
                                {'label': 'Hitech city road', 'value': 'Hitech city road'},
                                {'label': 'Charminar road/Begam bazar', 'value': 'Charminar road/Begam bazar'},
                                {'label': 'Fort Area, Delhi', 'value': 'Fort Area, Delhi'}
                            ],
                            placeholder='Select Road',
                            style={'width': '100%', 'marginTop': '5px'}
                        )
                    ]
                )
            ]
        ),

        html.Div(
            style={'display': 'flex', 'justifyContent': 'center', 'marginBottom': '20px'},
            children=[
                html.Button('Analyse', id='forecast-button', n_clicks=0, style={
                    'backgroundColor': '#4A90E2', 'color': 'white', 'border': 'none', 'padding': '10px 20px', 'cursor': 'pointer', 'marginRight': '10px'
                }),
                html.Button('Reset', id='reset-button', n_clicks=0, style={
                    'backgroundColor': '#E94E77', 'color': 'white', 'border': 'none', 'padding': '10px 20px', 'cursor': 'pointer'
                })
            ]
        ),

        dcc.Graph(id='pie-chart', style={'marginBottom': '40px'}),
        dcc.Graph(id='weekly-bar-chart', style={'marginBottom': '40px'}),
        dcc.Graph(id='weekday-line-chart', style={'marginBottom': '40px'}),

        html.Div(id='traffic-prediction', style={'marginTop': '20px', 'fontWeight': 'bold', 'textAlign': 'center'}),
        html.Div(id='traffic-status', style={'marginTop': '10px', 'fontWeight': 'bold', 'textAlign': 'center'}),
        html.Div(id='traffic-suggestions', style={'marginTop': '10px', 'fontWeight': 'bold', 'textAlign': 'center'})
    ]
)

@app.callback(
    [Output('pie-chart', 'figure'),
     Output('weekly-bar-chart', 'figure'),
     Output('weekday-line-chart', 'figure'),
     Output('traffic-prediction', 'children'),
     Output('traffic-status', 'children'),
     Output('traffic-suggestions', 'children')],
    [Input('forecast-button', 'n_clicks'),
     Input('reset-button', 'n_clicks')],
    [State('date-picker', 'date'),
     State('time-dropdown', 'value')]
)
def update_dashboard(forecast_clicks, reset_clicks, selected_date, selected_time):
    ctx = dash.callback_context

    if not ctx.triggered:
        button_id = 'No clicks yet'
    else:
        button_id = ctx.triggered[0]['prop_id'].split('.')[0]

    if button_id == 'reset-button':
        empty_fig = {}
        return empty_fig, empty_fig, empty_fig, "", "", ""

    if not selected_date or not selected_time or forecast_clicks == 0:
        empty_fig = {}
        return empty_fig, empty_fig, empty_fig, "No data", "No data", "No suggestions"

    datetime_input = f"{pd.to_datetime(selected_date).strftime('%d-%m-%Y')} {selected_time}:00"

    # Filter the dataframe for the input datetime
    filtered_df = df[df['Datetime'] == datetime_input]

    if filtered_df.empty:
        empty_fig = {}
        return empty_fig, empty_fig, empty_fig, "No data available for the provided datetime.", "No data", "No suggestions"

    data = filtered_df.iloc[0]

    # Pie chart
    labels = ['Car Count', 'Bike Count', 'Bus Count', 'Truck Count']
    values = [data['Car Count'], data['Bike Count'], data['Bus Count'], data['Truck Count']]
    pie_fig = px.pie(names=labels, values=values, title='Vehicle Distribution', 
                     color_discrete_sequence=px.colors.sequential.Blues)

    # Traffic prediction
    traffic_count = f"Analysed Traffic Count: {data['Count']}"

    # Traffic status
    traffic_status = f"Traffic Situation: {data['Traffic Situation']}"

    # Suggestions based on traffic situation
    suggestions = ""
    if data['Traffic Situation'] == 'normal':
        suggestions = "Traffic is normal. No tension have a free ride."
    elif data['Traffic Situation'] == 'heavy':
        suggestions = "Heavy traffic. Consider alternative routes or traveling at a different time."
    elif data['Traffic Situation'] == 'light':
        suggestions = "Light traffic. Travel as planned."

    # Weekly bar graph
    selected_date_dt = pd.to_datetime(selected_date)
    start_of_week = selected_date_dt - pd.Timedelta(days=selected_date_dt.weekday())
    end_of_week = start_of_week + pd.Timedelta(days=6)

    weekly_df = df[(df['Date'] >= start_of_week.date()) & (df['Date'] <= end_of_week.date())]

    bar_fig = px.bar(weekly_df, x='Date', y='Count', title='Weekly Traffic Count',
                     labels={'Date': 'Date', 'Count': 'Traffic Count'},
                     color='Count', color_continuous_scale=px.colors.sequential.Blues)

    # Line graph for weekdays
    weekdays_order = ['Sunday', 'Monday', 'Tuesday', 'Wednesday', 'Thursday', 'Friday', 'Saturday']
    weekday_agg_df = df.groupby('Weekday')['Count'].sum().reindex(weekdays_order).reset_index()

    line_fig = px.line(weekday_agg_df, x='Weekday', y='Count', title='Traffic Count by Weekday',
                       labels={'Weekday': 'Weekday', 'Count': 'Traffic Count'},
                       line_shape='spline', markers=True)

    return pie_fig, bar_fig, line_fig, traffic_count, traffic_status, suggestions

if __name__ == '__main__':
    app.run_server(debug=True)
